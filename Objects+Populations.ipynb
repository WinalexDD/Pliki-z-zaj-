{
 "cells": [
  {
   "cell_type": "markdown",
   "id": "002aa9ef",
   "metadata": {},
   "source": [
    "# KLASY"
   ]
  },
  {
   "cell_type": "markdown",
   "id": "0a72bcba",
   "metadata": {},
   "source": [
    "# ZAJECIA 1"
   ]
  },
  {
   "cell_type": "markdown",
   "id": "3bb57b1c",
   "metadata": {},
   "source": [
    "## tworzymy klase"
   ]
  },
  {
   "cell_type": "code",
   "execution_count": 1,
   "id": "dad36165",
   "metadata": {},
   "outputs": [],
   "source": [
    "class Creature:\n",
    "    p_death=0.2\n",
    "    p_repr=0.2"
   ]
  },
  {
   "cell_type": "markdown",
   "id": "903acdbc",
   "metadata": {},
   "source": [
    "## tworzymy obiekty"
   ]
  },
  {
   "cell_type": "code",
   "execution_count": 2,
   "id": "6eca6b57",
   "metadata": {},
   "outputs": [],
   "source": [
    "creature1 = Creature()\n",
    "creature2 = Creature()"
   ]
  },
  {
   "cell_type": "markdown",
   "id": "b83939af",
   "metadata": {},
   "source": [
    "## czy to sa dwa rozne obiekty"
   ]
  },
  {
   "cell_type": "code",
   "execution_count": 3,
   "id": "e661efe7",
   "metadata": {},
   "outputs": [
    {
     "data": {
      "text/plain": [
       "False"
      ]
     },
     "execution_count": 3,
     "metadata": {},
     "output_type": "execute_result"
    }
   ],
   "source": [
    "creature1 is creature2"
   ]
  },
  {
   "cell_type": "code",
   "execution_count": 4,
   "id": "802f512e",
   "metadata": {},
   "outputs": [
    {
     "data": {
      "text/plain": [
       "False"
      ]
     },
     "execution_count": 4,
     "metadata": {},
     "output_type": "execute_result"
    }
   ],
   "source": [
    "creature1 == creature2"
   ]
  },
  {
   "cell_type": "markdown",
   "id": "77ec495c",
   "metadata": {},
   "source": [
    "## tworzymy dodatkowa zmienna "
   ]
  },
  {
   "cell_type": "code",
   "execution_count": 5,
   "id": "c61ab93e",
   "metadata": {},
   "outputs": [],
   "source": [
    "creature3 = creature1"
   ]
  },
  {
   "cell_type": "markdown",
   "id": "ceaaac95",
   "metadata": {},
   "source": [
    "creature 1 i 2 to obiekty ale creature 3 to juz tylko zmienna"
   ]
  },
  {
   "cell_type": "code",
   "execution_count": 6,
   "id": "6c3769b5",
   "metadata": {},
   "outputs": [
    {
     "data": {
      "text/plain": [
       "True"
      ]
     },
     "execution_count": 6,
     "metadata": {},
     "output_type": "execute_result"
    }
   ],
   "source": [
    "creature1 is creature3"
   ]
  },
  {
   "cell_type": "code",
   "execution_count": 7,
   "id": "834397ab",
   "metadata": {},
   "outputs": [
    {
     "data": {
      "text/plain": [
       "True"
      ]
     },
     "execution_count": 7,
     "metadata": {},
     "output_type": "execute_result"
    }
   ],
   "source": [
    "creature1 == creature3"
   ]
  },
  {
   "cell_type": "markdown",
   "id": "59949092",
   "metadata": {},
   "source": [
    "## jak sprawdzic klase obiektu"
   ]
  },
  {
   "cell_type": "code",
   "execution_count": 8,
   "id": "c24bf1ed",
   "metadata": {},
   "outputs": [
    {
     "data": {
      "text/plain": [
       "__main__.Creature"
      ]
     },
     "execution_count": 8,
     "metadata": {},
     "output_type": "execute_result"
    }
   ],
   "source": [
    "type(creature1)"
   ]
  },
  {
   "cell_type": "markdown",
   "id": "d42b363a",
   "metadata": {},
   "source": [
    "### DYGRESJA"
   ]
  },
  {
   "cell_type": "code",
   "execution_count": 9,
   "id": "62816a8a",
   "metadata": {},
   "outputs": [
    {
     "data": {
      "text/plain": [
       "True"
      ]
     },
     "execution_count": 9,
     "metadata": {},
     "output_type": "execute_result"
    }
   ],
   "source": [
    "x = 2\n",
    "y = 2\n",
    "x is y"
   ]
  },
  {
   "cell_type": "code",
   "execution_count": 10,
   "id": "df7ba82e",
   "metadata": {},
   "outputs": [
    {
     "data": {
      "text/plain": [
       "(1850320906576, 1850320906576)"
      ]
     },
     "execution_count": 10,
     "metadata": {},
     "output_type": "execute_result"
    }
   ],
   "source": [
    "id(x), id(y)"
   ]
  },
  {
   "cell_type": "code",
   "execution_count": 11,
   "id": "10a2d1c3",
   "metadata": {},
   "outputs": [
    {
     "data": {
      "text/plain": [
       "False"
      ]
     },
     "execution_count": 11,
     "metadata": {},
     "output_type": "execute_result"
    }
   ],
   "source": [
    "a = 12345\n",
    "b = 12345\n",
    "a is b"
   ]
  },
  {
   "cell_type": "code",
   "execution_count": 12,
   "id": "28de856f",
   "metadata": {},
   "outputs": [
    {
     "data": {
      "text/plain": [
       "True"
      ]
     },
     "execution_count": 12,
     "metadata": {},
     "output_type": "execute_result"
    }
   ],
   "source": [
    "a == b"
   ]
  },
  {
   "cell_type": "code",
   "execution_count": 13,
   "id": "2c95495c",
   "metadata": {},
   "outputs": [
    {
     "data": {
      "text/plain": [
       "True"
      ]
     },
     "execution_count": 13,
     "metadata": {},
     "output_type": "execute_result"
    }
   ],
   "source": [
    "a == 12345.0"
   ]
  },
  {
   "cell_type": "code",
   "execution_count": 14,
   "id": "b23d5aa8",
   "metadata": {},
   "outputs": [
    {
     "data": {
      "text/plain": [
       "(1850398824944, 1850398826032)"
      ]
     },
     "execution_count": 14,
     "metadata": {},
     "output_type": "execute_result"
    }
   ],
   "source": [
    "id(a), id(b)"
   ]
  },
  {
   "cell_type": "markdown",
   "id": "0d563da0",
   "metadata": {},
   "source": [
    "python tak dziala ze lizny do 256 sa traktowane jako ten sam obiekt, poznie juz nie XDD"
   ]
  },
  {
   "cell_type": "markdown",
   "id": "ab446c4f",
   "metadata": {},
   "source": [
    "### koniec dygresji"
   ]
  },
  {
   "cell_type": "code",
   "execution_count": 15,
   "id": "ebdb3a81",
   "metadata": {},
   "outputs": [
    {
     "data": {
      "text/plain": [
       "(1850398917776, 1850398917488, 1850398917776)"
      ]
     },
     "execution_count": 15,
     "metadata": {},
     "output_type": "execute_result"
    }
   ],
   "source": [
    "id(creature1), id(creature2), id(creature3)"
   ]
  },
  {
   "cell_type": "markdown",
   "id": "ed32f9fb",
   "metadata": {},
   "source": [
    "## atrybuty klasy"
   ]
  },
  {
   "cell_type": "code",
   "execution_count": 16,
   "id": "4633f43f",
   "metadata": {},
   "outputs": [
    {
     "data": {
      "text/plain": [
       "(0.2, 0.2)"
      ]
     },
     "execution_count": 16,
     "metadata": {},
     "output_type": "execute_result"
    }
   ],
   "source": [
    "creature1.p_death, creature1.p_repr"
   ]
  },
  {
   "cell_type": "markdown",
   "id": "47dbb66e",
   "metadata": {},
   "source": [
    "sa to atrybuty statyczne (bo stala wartosc) ktore mozemy nadpisywac"
   ]
  },
  {
   "cell_type": "code",
   "execution_count": 17,
   "id": "2ea7dcef",
   "metadata": {},
   "outputs": [],
   "source": [
    "creature1.p_death=0.01"
   ]
  },
  {
   "cell_type": "code",
   "execution_count": 18,
   "id": "a19a0de9",
   "metadata": {},
   "outputs": [
    {
     "data": {
      "text/plain": [
       "(0.01, 0.2)"
      ]
     },
     "execution_count": 18,
     "metadata": {},
     "output_type": "execute_result"
    }
   ],
   "source": [
    "creature1.p_death, creature1.p_repr"
   ]
  },
  {
   "cell_type": "markdown",
   "id": "0b3a36b4",
   "metadata": {},
   "source": [
    "mozna tez ja usunac"
   ]
  },
  {
   "cell_type": "code",
   "execution_count": 19,
   "id": "9d7fbbd1",
   "metadata": {},
   "outputs": [],
   "source": [
    "del creature1.p_death"
   ]
  },
  {
   "cell_type": "code",
   "execution_count": 20,
   "id": "c59a0fca",
   "metadata": {},
   "outputs": [
    {
     "data": {
      "text/plain": [
       "(0.2, 0.2)"
      ]
     },
     "execution_count": 20,
     "metadata": {},
     "output_type": "execute_result"
    }
   ],
   "source": [
    "creature1.p_death, creature1.p_repr"
   ]
  },
  {
   "cell_type": "markdown",
   "id": "62cca5cc",
   "metadata": {},
   "source": [
    "mozna tez dodawac inne atrybuty"
   ]
  },
  {
   "cell_type": "code",
   "execution_count": 21,
   "id": "b6ca1d4e",
   "metadata": {},
   "outputs": [],
   "source": [
    "creature1.name = \"Azor\""
   ]
  },
  {
   "cell_type": "code",
   "execution_count": 22,
   "id": "a08c492e",
   "metadata": {},
   "outputs": [
    {
     "data": {
      "text/plain": [
       "'Azor'"
      ]
     },
     "execution_count": 22,
     "metadata": {},
     "output_type": "execute_result"
    }
   ],
   "source": [
    "creature1.name"
   ]
  },
  {
   "cell_type": "markdown",
   "id": "ee19aee9",
   "metadata": {},
   "source": [
    "w klasie oprocz atrybutow moga tez byc funkcje (metody)"
   ]
  },
  {
   "cell_type": "code",
   "execution_count": 23,
   "id": "3d947baa",
   "metadata": {},
   "outputs": [],
   "source": [
    "class Creature:\n",
    "    p_death=0.2\n",
    "    p_repr=0.2\n",
    "    def how_are_you(self):\n",
    "        #jezeli p.death < 0.05 to wypisz Im okay, w przeciwnym przypadku Im not okay\n",
    "        if self.p_death<0.05:\n",
    "            print(\"Im okay\")\n",
    "        else:\n",
    "            print(\"Im not okay\")"
   ]
  },
  {
   "cell_type": "markdown",
   "id": "c346d8ba",
   "metadata": {},
   "source": [
    "to self w funkcji jest kluczowe bo ono odnosi sie do klasy Creature "
   ]
  },
  {
   "cell_type": "code",
   "execution_count": 24,
   "id": "0d9b027a",
   "metadata": {},
   "outputs": [],
   "source": [
    "creature1 = Creature()\n",
    "creature2 = Creature()"
   ]
  },
  {
   "cell_type": "code",
   "execution_count": 25,
   "id": "3ba25d7d",
   "metadata": {},
   "outputs": [
    {
     "name": "stdout",
     "output_type": "stream",
     "text": [
      "Im not okay\n"
     ]
    }
   ],
   "source": [
    "creature1.how_are_you()"
   ]
  },
  {
   "cell_type": "code",
   "execution_count": 26,
   "id": "40cf443a",
   "metadata": {},
   "outputs": [
    {
     "name": "stdout",
     "output_type": "stream",
     "text": [
      "Im not okay\n"
     ]
    }
   ],
   "source": [
    "Creature.how_are_you(creature1)"
   ]
  },
  {
   "cell_type": "markdown",
   "id": "b0919c4a",
   "metadata": {},
   "source": [
    "### SZTUCZKA"
   ]
  },
  {
   "cell_type": "code",
   "execution_count": 27,
   "id": "1d811a39",
   "metadata": {},
   "outputs": [],
   "source": [
    "class Creature:\n",
    "    p_death=0.2\n",
    "    p_repr=0.2\n",
    "    def how_are_you(self):\n",
    "        #jezeli p.death < 0.05 to wypisz Im okay, w przeciwnym przypadku Im not okay\n",
    "        if self.p_death<0.05:\n",
    "            print(\"Im okay\")\n",
    "        else:\n",
    "            print(\"Im not okay\")\n",
    "    def __eq__(self, other): #eq od equal, jak porownywac dw aobiekty, jedna z tzw. 'magicznych metod'\n",
    "        if (self.p_death==other.p_death) and (self.p_repr==other.p_repr):\n",
    "            return True\n",
    "        else:\n",
    "            return False"
   ]
  },
  {
   "cell_type": "code",
   "execution_count": 28,
   "id": "2075d2d7",
   "metadata": {},
   "outputs": [],
   "source": [
    "creature1 = Creature()\n",
    "creature2 = Creature()"
   ]
  },
  {
   "cell_type": "code",
   "execution_count": 29,
   "id": "e3e5d414",
   "metadata": {},
   "outputs": [
    {
     "data": {
      "text/plain": [
       "True"
      ]
     },
     "execution_count": 29,
     "metadata": {},
     "output_type": "execute_result"
    }
   ],
   "source": [
    "creature1 == creature2"
   ]
  },
  {
   "cell_type": "code",
   "execution_count": 30,
   "id": "0fb7319b",
   "metadata": {},
   "outputs": [
    {
     "data": {
      "text/plain": [
       "False"
      ]
     },
     "execution_count": 30,
     "metadata": {},
     "output_type": "execute_result"
    }
   ],
   "source": [
    "creature1 is creature2"
   ]
  },
  {
   "cell_type": "markdown",
   "id": "cfebc994",
   "metadata": {},
   "source": [
    "dzieki temu eq zmienilismy sposob rownosci obiekow, to nadal sa dwa rozne obiekty ale wedlug naszej definicji sa sobie rowne \\\n",
    "wazne jest zeby to eq bylo zapisane jako __eq__ bo to wynika z definicji klasy"
   ]
  },
  {
   "cell_type": "code",
   "execution_count": 31,
   "id": "76b688bc",
   "metadata": {},
   "outputs": [
    {
     "data": {
      "text/plain": [
       "['__class__',\n",
       " '__delattr__',\n",
       " '__dict__',\n",
       " '__dir__',\n",
       " '__doc__',\n",
       " '__eq__',\n",
       " '__format__',\n",
       " '__ge__',\n",
       " '__getattribute__',\n",
       " '__gt__',\n",
       " '__hash__',\n",
       " '__init__',\n",
       " '__init_subclass__',\n",
       " '__le__',\n",
       " '__lt__',\n",
       " '__module__',\n",
       " '__ne__',\n",
       " '__new__',\n",
       " '__reduce__',\n",
       " '__reduce_ex__',\n",
       " '__repr__',\n",
       " '__setattr__',\n",
       " '__sizeof__',\n",
       " '__str__',\n",
       " '__subclasshook__',\n",
       " '__weakref__',\n",
       " 'how_are_you',\n",
       " 'p_death',\n",
       " 'p_repr']"
      ]
     },
     "execution_count": 31,
     "metadata": {},
     "output_type": "execute_result"
    }
   ],
   "source": [
    "dir(Creature)"
   ]
  },
  {
   "cell_type": "markdown",
   "id": "9d88bb86",
   "metadata": {},
   "source": [
    "# ZAJECIA 2"
   ]
  },
  {
   "cell_type": "code",
   "execution_count": 32,
   "id": "0eaa1dbe",
   "metadata": {},
   "outputs": [],
   "source": [
    "import random"
   ]
  },
  {
   "cell_type": "code",
   "execution_count": 33,
   "id": "eb8001cd",
   "metadata": {},
   "outputs": [],
   "source": [
    "class Creature:\n",
    "    p_death=0.2\n",
    "    p_repr=0.2\n",
    "    alive = True\n",
    "    def natural_selection(self):\n",
    "        if random.random() <= self.p_death:\n",
    "            self.alive = False\n",
    "        return self.alive"
   ]
  },
  {
   "cell_type": "code",
   "execution_count": 34,
   "id": "5167811f",
   "metadata": {},
   "outputs": [],
   "source": [
    "creature = Creature()"
   ]
  },
  {
   "cell_type": "code",
   "execution_count": 35,
   "id": "71b57226",
   "metadata": {},
   "outputs": [
    {
     "data": {
      "text/plain": [
       "False"
      ]
     },
     "execution_count": 35,
     "metadata": {},
     "output_type": "execute_result"
    }
   ],
   "source": [
    "creature.natural_selection()"
   ]
  },
  {
   "cell_type": "code",
   "execution_count": 36,
   "id": "93cb977c",
   "metadata": {},
   "outputs": [],
   "source": [
    "INIT_SIZE = 100"
   ]
  },
  {
   "cell_type": "markdown",
   "id": "36ace3c9",
   "metadata": {},
   "source": [
    "moglaby byc lista ale obiekty moga sie powtarzac wiec robimy zbior(set)"
   ]
  },
  {
   "cell_type": "code",
   "execution_count": 37,
   "id": "b49aea3c",
   "metadata": {},
   "outputs": [
    {
     "data": {
      "text/plain": [
       "{<__main__.Creature at 0x1aed4658070>,\n",
       " <__main__.Creature at 0x1aed46580a0>,\n",
       " <__main__.Creature at 0x1aed4658130>,\n",
       " <__main__.Creature at 0x1aed4658190>,\n",
       " <__main__.Creature at 0x1aed46581f0>,\n",
       " <__main__.Creature at 0x1aed4658220>,\n",
       " <__main__.Creature at 0x1aed4658250>,\n",
       " <__main__.Creature at 0x1aed4658280>,\n",
       " <__main__.Creature at 0x1aed46582b0>,\n",
       " <__main__.Creature at 0x1aed46582e0>,\n",
       " <__main__.Creature at 0x1aed4658310>,\n",
       " <__main__.Creature at 0x1aed4658340>,\n",
       " <__main__.Creature at 0x1aed4658370>,\n",
       " <__main__.Creature at 0x1aed4658490>,\n",
       " <__main__.Creature at 0x1aed46584f0>,\n",
       " <__main__.Creature at 0x1aed4658550>,\n",
       " <__main__.Creature at 0x1aed4658580>,\n",
       " <__main__.Creature at 0x1aed46585b0>,\n",
       " <__main__.Creature at 0x1aed46587f0>,\n",
       " <__main__.Creature at 0x1aed46588e0>,\n",
       " <__main__.Creature at 0x1aed4658910>,\n",
       " <__main__.Creature at 0x1aed4658940>,\n",
       " <__main__.Creature at 0x1aed4658970>,\n",
       " <__main__.Creature at 0x1aed46589a0>,\n",
       " <__main__.Creature at 0x1aed46589d0>,\n",
       " <__main__.Creature at 0x1aed4658a00>,\n",
       " <__main__.Creature at 0x1aed4658a30>,\n",
       " <__main__.Creature at 0x1aed4658a60>,\n",
       " <__main__.Creature at 0x1aed4658a90>,\n",
       " <__main__.Creature at 0x1aed4658ac0>,\n",
       " <__main__.Creature at 0x1aed4658af0>,\n",
       " <__main__.Creature at 0x1aed4658b20>,\n",
       " <__main__.Creature at 0x1aed4658b50>,\n",
       " <__main__.Creature at 0x1aed4658b80>,\n",
       " <__main__.Creature at 0x1aed4658bb0>,\n",
       " <__main__.Creature at 0x1aed4658be0>,\n",
       " <__main__.Creature at 0x1aed4658c10>,\n",
       " <__main__.Creature at 0x1aed4658c40>,\n",
       " <__main__.Creature at 0x1aed4658c70>,\n",
       " <__main__.Creature at 0x1aed4658ca0>,\n",
       " <__main__.Creature at 0x1aed4658cd0>,\n",
       " <__main__.Creature at 0x1aed4658d00>,\n",
       " <__main__.Creature at 0x1aed4658d30>,\n",
       " <__main__.Creature at 0x1aed4658d60>,\n",
       " <__main__.Creature at 0x1aed4658d90>,\n",
       " <__main__.Creature at 0x1aed4658dc0>,\n",
       " <__main__.Creature at 0x1aed4658df0>,\n",
       " <__main__.Creature at 0x1aed4658e20>,\n",
       " <__main__.Creature at 0x1aed4658e50>,\n",
       " <__main__.Creature at 0x1aed4658e80>,\n",
       " <__main__.Creature at 0x1aed4658eb0>,\n",
       " <__main__.Creature at 0x1aed4658ee0>,\n",
       " <__main__.Creature at 0x1aed4658f10>,\n",
       " <__main__.Creature at 0x1aed4658f40>,\n",
       " <__main__.Creature at 0x1aed4658f70>,\n",
       " <__main__.Creature at 0x1aed4658fa0>,\n",
       " <__main__.Creature at 0x1aed4658fd0>,\n",
       " <__main__.Creature at 0x1aed465a040>,\n",
       " <__main__.Creature at 0x1aed465a070>,\n",
       " <__main__.Creature at 0x1aed465a0a0>,\n",
       " <__main__.Creature at 0x1aed465a0d0>,\n",
       " <__main__.Creature at 0x1aed465a100>,\n",
       " <__main__.Creature at 0x1aed465a130>,\n",
       " <__main__.Creature at 0x1aed465a160>,\n",
       " <__main__.Creature at 0x1aed465a190>,\n",
       " <__main__.Creature at 0x1aed465a1c0>,\n",
       " <__main__.Creature at 0x1aed465a1f0>,\n",
       " <__main__.Creature at 0x1aed465a220>,\n",
       " <__main__.Creature at 0x1aed465a250>,\n",
       " <__main__.Creature at 0x1aed465a280>,\n",
       " <__main__.Creature at 0x1aed465a2b0>,\n",
       " <__main__.Creature at 0x1aed465a2e0>,\n",
       " <__main__.Creature at 0x1aed465a310>,\n",
       " <__main__.Creature at 0x1aed465a340>,\n",
       " <__main__.Creature at 0x1aed465a370>,\n",
       " <__main__.Creature at 0x1aed465a3a0>,\n",
       " <__main__.Creature at 0x1aed465a3d0>,\n",
       " <__main__.Creature at 0x1aed465a400>,\n",
       " <__main__.Creature at 0x1aed465a430>,\n",
       " <__main__.Creature at 0x1aed465a460>,\n",
       " <__main__.Creature at 0x1aed465a490>,\n",
       " <__main__.Creature at 0x1aed465a4c0>,\n",
       " <__main__.Creature at 0x1aed465a4f0>,\n",
       " <__main__.Creature at 0x1aed465a520>,\n",
       " <__main__.Creature at 0x1aed465a550>,\n",
       " <__main__.Creature at 0x1aed465a580>,\n",
       " <__main__.Creature at 0x1aed465a5b0>,\n",
       " <__main__.Creature at 0x1aed465a5e0>,\n",
       " <__main__.Creature at 0x1aed465a610>,\n",
       " <__main__.Creature at 0x1aed465a640>,\n",
       " <__main__.Creature at 0x1aed465a670>,\n",
       " <__main__.Creature at 0x1aed465a6a0>,\n",
       " <__main__.Creature at 0x1aed465a6d0>,\n",
       " <__main__.Creature at 0x1aed465a700>,\n",
       " <__main__.Creature at 0x1aed465a730>,\n",
       " <__main__.Creature at 0x1aed465a760>,\n",
       " <__main__.Creature at 0x1aed465a790>,\n",
       " <__main__.Creature at 0x1aed465a7c0>,\n",
       " <__main__.Creature at 0x1aed465a7f0>,\n",
       " <__main__.Creature at 0x1aed465a820>}"
      ]
     },
     "execution_count": 37,
     "metadata": {},
     "output_type": "execute_result"
    }
   ],
   "source": [
    "population = {Creature() for _ in range(INIT_SIZE)}\n",
    "population"
   ]
  },
  {
   "cell_type": "code",
   "execution_count": 38,
   "id": "2b96729e",
   "metadata": {},
   "outputs": [],
   "source": [
    "def count_alive(population):\n",
    "    return len({creature for creature in population if creature.alive})"
   ]
  },
  {
   "cell_type": "code",
   "execution_count": 39,
   "id": "0d0f5b73",
   "metadata": {},
   "outputs": [
    {
     "data": {
      "text/plain": [
       "100"
      ]
     },
     "execution_count": 39,
     "metadata": {},
     "output_type": "execute_result"
    }
   ],
   "source": [
    "count_alive(population)"
   ]
  },
  {
   "cell_type": "markdown",
   "id": "face4ef6",
   "metadata": {},
   "source": [
    "teraz z tego wszystkiego wyzej zrobimy jedna porzadna klase population"
   ]
  },
  {
   "cell_type": "code",
   "execution_count": 40,
   "id": "a59e9c19",
   "metadata": {},
   "outputs": [],
   "source": [
    "class Population:\n",
    "    def __init__(self, size=100):\n",
    "        self.specimen = {Creature() for _ in range(size)}\n",
    "    def count_alive(self):\n",
    "        return len({creature for creature in self.specimen if creature.alive})"
   ]
  },
  {
   "cell_type": "markdown",
   "id": "7ae513dc",
   "metadata": {},
   "source": [
    "konstruktor by tworzyc obiekty wewnatrz klasy (w pythonie jest wyjatkowo jeszcze inicjalizator) \\\n",
    "init sie odpala samoistnie gdy tworzymy obiekt, liczba w nawiasie po klasie jest wstawiana do inita"
   ]
  },
  {
   "cell_type": "code",
   "execution_count": 41,
   "id": "3b7e3248",
   "metadata": {},
   "outputs": [],
   "source": [
    "population = Population()"
   ]
  },
  {
   "cell_type": "code",
   "execution_count": 42,
   "id": "a34ae39b",
   "metadata": {},
   "outputs": [
    {
     "data": {
      "text/plain": [
       "100"
      ]
     },
     "execution_count": 42,
     "metadata": {},
     "output_type": "execute_result"
    }
   ],
   "source": [
    "population.count_alive()"
   ]
  },
  {
   "cell_type": "code",
   "execution_count": 43,
   "id": "10c65869",
   "metadata": {},
   "outputs": [],
   "source": [
    "population = Population(3)"
   ]
  },
  {
   "cell_type": "code",
   "execution_count": 44,
   "id": "c0e8c5a8",
   "metadata": {},
   "outputs": [
    {
     "data": {
      "text/plain": [
       "3"
      ]
     },
     "execution_count": 44,
     "metadata": {},
     "output_type": "execute_result"
    }
   ],
   "source": [
    "population.count_alive()"
   ]
  },
  {
   "cell_type": "code",
   "execution_count": 45,
   "id": "a7463d7a",
   "metadata": {},
   "outputs": [],
   "source": [
    "class Population:\n",
    "    def __init__(self, size=100):\n",
    "        self.specimen = {Creature() for _ in range(size)}\n",
    "    def count_alive(self):\n",
    "        return len({creature for creature in self.specimen if creature.alive})"
   ]
  },
  {
   "cell_type": "code",
   "execution_count": 46,
   "id": "18a7ff9f",
   "metadata": {},
   "outputs": [],
   "source": [
    "population = Population()"
   ]
  },
  {
   "cell_type": "code",
   "execution_count": 47,
   "id": "d2cae7cb",
   "metadata": {},
   "outputs": [],
   "source": [
    "population = Population(3)"
   ]
  },
  {
   "cell_type": "code",
   "execution_count": 48,
   "id": "2f5bae1b",
   "metadata": {},
   "outputs": [
    {
     "data": {
      "text/plain": [
       "3"
      ]
     },
     "execution_count": 48,
     "metadata": {},
     "output_type": "execute_result"
    }
   ],
   "source": [
    "population.count_alive()"
   ]
  },
  {
   "cell_type": "code",
   "execution_count": 49,
   "id": "310fcb20",
   "metadata": {},
   "outputs": [],
   "source": [
    "population = Population(size=5)"
   ]
  },
  {
   "cell_type": "code",
   "execution_count": 50,
   "id": "47e89c4d",
   "metadata": {},
   "outputs": [
    {
     "data": {
      "text/plain": [
       "5"
      ]
     },
     "execution_count": 50,
     "metadata": {},
     "output_type": "execute_result"
    }
   ],
   "source": [
    "population.count_alive()"
   ]
  },
  {
   "cell_type": "code",
   "execution_count": 51,
   "id": "f26f8a92",
   "metadata": {},
   "outputs": [],
   "source": [
    "class Population:\n",
    "    def __init__(self, size=100):\n",
    "        self.specimen = {Creature() for _ in range(size)}\n",
    "    def count_alive(self):\n",
    "        return len({creature for creature in self.specimen if creature.alive})\n",
    "    def natural_selection(self):\n",
    "        for creature in self.specimen:\n",
    "            creature.natural_selection()"
   ]
  },
  {
   "cell_type": "code",
   "execution_count": 52,
   "id": "be86c058",
   "metadata": {},
   "outputs": [],
   "source": [
    "population = Population()"
   ]
  },
  {
   "cell_type": "code",
   "execution_count": 53,
   "id": "fa87ca71",
   "metadata": {},
   "outputs": [
    {
     "data": {
      "text/plain": [
       "100"
      ]
     },
     "execution_count": 53,
     "metadata": {},
     "output_type": "execute_result"
    }
   ],
   "source": [
    "population.count_alive()"
   ]
  },
  {
   "cell_type": "code",
   "execution_count": 54,
   "id": "70c331ac",
   "metadata": {},
   "outputs": [],
   "source": [
    "population.natural_selection()"
   ]
  },
  {
   "cell_type": "code",
   "execution_count": 55,
   "id": "9e4693ac",
   "metadata": {},
   "outputs": [
    {
     "data": {
      "text/plain": [
       "87"
      ]
     },
     "execution_count": 55,
     "metadata": {},
     "output_type": "execute_result"
    }
   ],
   "source": [
    "population.count_alive()"
   ]
  },
  {
   "cell_type": "markdown",
   "id": "a25f7422",
   "metadata": {},
   "source": [
    "# ZAJECIA 3"
   ]
  },
  {
   "cell_type": "code",
   "execution_count": 56,
   "id": "37c9f08e",
   "metadata": {},
   "outputs": [],
   "source": [
    "import random\n",
    "import matplotlib.pyplot as plt\n",
    "\n",
    "class Creature:\n",
    "    p_death=0.2\n",
    "    p_repr=0.2\n",
    "    alive = True\n",
    "    def natural_selection(self):\n",
    "        if random.random() <= self.p_death:\n",
    "            self.alive = False\n",
    "        return self.alive\n",
    "    def reproduce(self):\n",
    "        if random.random() <= self.p_repr:\n",
    "            return Creature()\n",
    "        \n",
    "class Population:\n",
    "    def __init__(self, size=100):\n",
    "        self.specimen = {Creature() for _ in range(size)}\n",
    "        self.history=[]\n",
    "    def count_alive(self):\n",
    "        return len({creature for creature in self.specimen if creature.alive})\n",
    "    def natural_selection(self):\n",
    "        for creature in self.specimen:\n",
    "            creature.natural_selection()\n",
    "    def simulate(self, generations):\n",
    "        for i in range(generations):\n",
    "            self.history.append(self.count_alive())\n",
    "            self.natural_selection()\n",
    "    def plot(self):\n",
    "        plt.plot(self.history)  "
   ]
  },
  {
   "cell_type": "code",
   "execution_count": 57,
   "id": "f2dfbf2c",
   "metadata": {},
   "outputs": [],
   "source": [
    "population=Population()"
   ]
  },
  {
   "cell_type": "code",
   "execution_count": 58,
   "id": "73780866",
   "metadata": {},
   "outputs": [
    {
     "data": {
      "text/plain": [
       "14"
      ]
     },
     "execution_count": 58,
     "metadata": {},
     "output_type": "execute_result"
    }
   ],
   "source": [
    "population.simulate(10)\n",
    "population.count_alive()"
   ]
  },
  {
   "cell_type": "code",
   "execution_count": 59,
   "id": "3d190298",
   "metadata": {},
   "outputs": [
    {
     "data": {
      "text/plain": [
       "[100, 80, 67, 59, 46, 37, 27, 19, 16, 16]"
      ]
     },
     "execution_count": 59,
     "metadata": {},
     "output_type": "execute_result"
    }
   ],
   "source": [
    "population.history "
   ]
  },
  {
   "cell_type": "code",
   "execution_count": 60,
   "id": "28f9608a",
   "metadata": {},
   "outputs": [
    {
     "data": {
      "image/png": "[encoded data removed]",
      "text/plain": [
       "<Figure size 432x288 with 1 Axes>"
      ]
     },
     "metadata": {
      "needs_background": "light"
     },
     "output_type": "display_data"
    }
   ],
   "source": [
    "population.plot()"
   ]
  },
  {
   "cell_type": "markdown",
   "id": "be7988bb",
   "metadata": {},
   "source": [
    "dodajemy reprodukcje"
   ]
  },
  {
   "cell_type": "code",
   "execution_count": 61,
   "id": "b901b7dc",
   "metadata": {},
   "outputs": [],
   "source": [
    "class Creature:\n",
    "    p_death=0.2\n",
    "    p_repr=0.2\n",
    "    alive = True\n",
    "    def natural_selection(self):\n",
    "        if random.random() <= self.p_death:\n",
    "            self.alive = False\n",
    "        return self.alive\n",
    "    def reproduce(self):\n",
    "        if random.random() <= self.p_repr:\n",
    "            return Creature()\n",
    "        \n",
    "class Population:\n",
    "    def __init__(self, size=100):\n",
    "        self.specimen = {Creature() for _ in range(size)}\n",
    "        self.history=[]\n",
    "    def count_alive(self):\n",
    "        return len({creature for creature in self.specimen if creature.alive})\n",
    "    def natural_selection(self):\n",
    "        for creature in self.specimen:\n",
    "            creature.natural_selection()\n",
    "    def simulate(self, generations):\n",
    "        for i in range(generations):\n",
    "            self.history.append(self.count_alive())\n",
    "            self.natural_selection()\n",
    "    def plot(self):\n",
    "        plt.plot(self.history)     \n",
    "    def reproduce(self):\n",
    "        new_creatures={creature.reproduce() for creature in self.specimen if creature.alive}\n",
    "        self.specimen += new_creatures"
   ]
  },
  {
   "cell_type": "markdown",
   "id": "aaf27251",
   "metadata": {},
   "source": [
    "problemem jest ze creature.reproduce zwraca czasami None i to nam bedzie zasmiecac liste kreatur wiec trzeba sie tego pozbyc (2 sposoby, trzeci to ciekawostka bo nie dziala)"
   ]
  },
  {
   "cell_type": "markdown",
   "id": "59f98f1a",
   "metadata": {},
   "source": [
    "nr.1 korzystamy z komend do setow(zbiorow) czyli jak pojawi sie z zbiorze none to je usuwamy"
   ]
  },
  {
   "cell_type": "code",
   "execution_count": 62,
   "id": "1c17a10a",
   "metadata": {},
   "outputs": [],
   "source": [
    "class Population:\n",
    "    def __init__(self, size=100):\n",
    "        self.specimen = {Creature() for _ in range(size)}\n",
    "        self.history=[]\n",
    "    def count_alive(self):\n",
    "        return len({creature for creature in self.specimen if creature.alive})\n",
    "    def natural_selection(self):\n",
    "        for creature in self.specimen:\n",
    "            creature.natural_selection()\n",
    "    def plot(self):\n",
    "        plt.plot(self.history)     \n",
    "    def reproduce(self):\n",
    "        new_creatures={creature.reproduce() for creature in self.specimen if creature.alive}\n",
    "        new_creatures.remove(None)\n",
    "        self.specimen |= new_creatures\n",
    "    def simulate(self, generations):\n",
    "        for i in range(generations):\n",
    "            self.history.append(self.count_alive())\n",
    "            self.reproduce()\n",
    "            self.natural_selection()"
   ]
  },
  {
   "cell_type": "markdown",
   "id": "b2f86265",
   "metadata": {},
   "source": [
    "nr.2 analogiczne tylko ze to jednoczesnie pokrywa przypadek gdy cala lista creature jest None bo wszyscy umarli "
   ]
  },
  {
   "cell_type": "code",
   "execution_count": 63,
   "id": "b110368b",
   "metadata": {},
   "outputs": [],
   "source": [
    "class Population:\n",
    "    def __init__(self, size=100):\n",
    "        self.specimen = {Creature() for _ in range(size)}\n",
    "        self.history=[]\n",
    "    def count_alive(self):\n",
    "        return len({creature for creature in self.specimen if creature.alive})\n",
    "    def natural_selection(self):\n",
    "        for creature in self.specimen:\n",
    "            creature.natural_selection()\n",
    "    def plot(self):\n",
    "        plt.plot(self.history)     \n",
    "    def reproduce(self):\n",
    "        new_creatures={creature.reproduce() for creature in self.specimen if creature.alive}\n",
    "        new_creatures -= {None}\n",
    "        self.specimen |= new_creatures\n",
    "    def simulate(self, generations):\n",
    "        for i in range(generations):\n",
    "            self.history.append(self.count_alive())\n",
    "            self.reproduce()\n",
    "            self.natural_selection()"
   ]
  },
  {
   "cell_type": "markdown",
   "id": "25567d0c",
   "metadata": {},
   "source": [
    "nr.3 niedziałający"
   ]
  },
  {
   "cell_type": "code",
   "execution_count": 64,
   "id": "3c72a1e1",
   "metadata": {},
   "outputs": [],
   "source": [
    "class Population:\n",
    "    def __init__(self, size=100):\n",
    "        self.specimen = {Creature() for _ in range(size)}\n",
    "        self.history=[]\n",
    "    def count_alive(self):\n",
    "        return len({creature for creature in self.specimen if creature.alive})\n",
    "    def natural_selection(self):\n",
    "        for creature in self.specimen:\n",
    "            creature.natural_selection()\n",
    "    def plot(self):\n",
    "        plt.plot(self.history)     \n",
    "    def reproduce(self):\n",
    "        new_creatures={(newborn:= creature.reproduce()) for creature in self.specimen \n",
    "                       if creature.alive and (newborn is not None)}\n",
    "        self.specimen |= new_creatures\n",
    "    def simulate(self, generations):\n",
    "        for i in range(generations):\n",
    "            self.history.append(self.count_alive())\n",
    "            self.reproduce()\n",
    "            self.natural_selection()"
   ]
  },
  {
   "cell_type": "markdown",
   "id": "929850a4",
   "metadata": {},
   "source": [
    "### ZABAWA NA ZBIORACH"
   ]
  },
  {
   "cell_type": "code",
   "execution_count": 65,
   "id": "8fea0697",
   "metadata": {},
   "outputs": [],
   "source": [
    "x={1,2,3}\n",
    "y={4,5,6}"
   ]
  },
  {
   "cell_type": "code",
   "execution_count": 66,
   "id": "e161ce49",
   "metadata": {},
   "outputs": [
    {
     "data": {
      "text/plain": [
       "{1, 2, 3, 4, 5, 6}"
      ]
     },
     "execution_count": 66,
     "metadata": {},
     "output_type": "execute_result"
    }
   ],
   "source": [
    "x | y"
   ]
  },
  {
   "cell_type": "code",
   "execution_count": 67,
   "id": "fe79e7da",
   "metadata": {},
   "outputs": [],
   "source": [
    "x |= y"
   ]
  },
  {
   "cell_type": "code",
   "execution_count": 68,
   "id": "681ec643",
   "metadata": {},
   "outputs": [
    {
     "data": {
      "text/plain": [
       "{4, 5, 6}"
      ]
     },
     "execution_count": 68,
     "metadata": {},
     "output_type": "execute_result"
    }
   ],
   "source": [
    "x & y"
   ]
  },
  {
   "cell_type": "code",
   "execution_count": 69,
   "id": "9b5bf504",
   "metadata": {},
   "outputs": [],
   "source": [
    "x={1,2,3}\n",
    "y={1, 4,5,6}"
   ]
  },
  {
   "cell_type": "code",
   "execution_count": 70,
   "id": "c7f8309a",
   "metadata": {},
   "outputs": [
    {
     "data": {
      "text/plain": [
       "{1, 2, 3, 4, 5, 6}"
      ]
     },
     "execution_count": 70,
     "metadata": {},
     "output_type": "execute_result"
    }
   ],
   "source": [
    "x | y"
   ]
  },
  {
   "cell_type": "code",
   "execution_count": 71,
   "id": "0b955cba",
   "metadata": {},
   "outputs": [
    {
     "data": {
      "text/plain": [
       "{1}"
      ]
     },
     "execution_count": 71,
     "metadata": {},
     "output_type": "execute_result"
    }
   ],
   "source": [
    "x & y"
   ]
  },
  {
   "cell_type": "markdown",
   "id": "fa4c6cca",
   "metadata": {},
   "source": [
    "### wracamy"
   ]
  },
  {
   "cell_type": "code",
   "execution_count": 72,
   "id": "500989df",
   "metadata": {},
   "outputs": [],
   "source": [
    "class Population:\n",
    "    def __init__(self, size=100):\n",
    "        self.specimen = {Creature() for _ in range(size)}\n",
    "        self.history=[]\n",
    "    def count_alive(self):\n",
    "        return len({creature for creature in self.specimen if creature.alive})\n",
    "    def natural_selection(self):\n",
    "        for creature in self.specimen:\n",
    "            creature.natural_selection()\n",
    "    def plot(self):\n",
    "        plt.plot(self.history)     \n",
    "    def reproduce(self):\n",
    "        new_creatures={creature.reproduce() for creature in self.specimen if creature.alive}\n",
    "        new_creatures -= {None}\n",
    "        self.specimen |= new_creatures\n",
    "    def simulate(self, generations):\n",
    "        for i in range(generations):\n",
    "            self.history.append(self.count_alive())\n",
    "            self.reproduce()\n",
    "            self.natural_selection()"
   ]
  },
  {
   "cell_type": "code",
   "execution_count": 73,
   "id": "4c1f3325",
   "metadata": {},
   "outputs": [],
   "source": [
    "population=Population()"
   ]
  },
  {
   "cell_type": "code",
   "execution_count": 74,
   "id": "e17239df",
   "metadata": {},
   "outputs": [
    {
     "data": {
      "text/plain": [
       "49"
      ]
     },
     "execution_count": 74,
     "metadata": {},
     "output_type": "execute_result"
    }
   ],
   "source": [
    "population.simulate(10)\n",
    "population.count_alive()"
   ]
  },
  {
   "cell_type": "code",
   "execution_count": 75,
   "id": "ba967164",
   "metadata": {},
   "outputs": [
    {
     "data": {
      "text/plain": [
       "[100, 84, 78, 78, 68, 61, 63, 63, 59, 56]"
      ]
     },
     "execution_count": 75,
     "metadata": {},
     "output_type": "execute_result"
    }
   ],
   "source": [
    "population.history "
   ]
  },
  {
   "cell_type": "code",
   "execution_count": 76,
   "id": "3fcf41ab",
   "metadata": {},
   "outputs": [
    {
     "data": {
      "image/png": "[encoded data removed]",
      "text/plain": [
       "<Figure size 432x288 with 1 Axes>"
      ]
     },
     "metadata": {
      "needs_background": "light"
     },
     "output_type": "display_data"
    }
   ],
   "source": [
    "population.plot()"
   ]
  },
  {
   "cell_type": "markdown",
   "id": "94a6e2dd",
   "metadata": {},
   "source": [
    "# ZAJECIA 4"
   ]
  },
  {
   "cell_type": "code",
   "execution_count": 77,
   "id": "97ae2ef0",
   "metadata": {},
   "outputs": [],
   "source": [
    "import random\n",
    "import matplotlib.pyplot as plt\n",
    "class Creature:\n",
    "    p_death=0.2\n",
    "    p_repr=0.25\n",
    "    alive = True\n",
    "    def natural_selection(self):\n",
    "        if random.random() <= self.p_death:\n",
    "            self.alive = False\n",
    "        return self.alive\n",
    "    def reproduce(self):\n",
    "        if random.random() <= self.p_repr:\n",
    "            return Creature()"
   ]
  },
  {
   "cell_type": "code",
   "execution_count": 78,
   "id": "c184b9bc",
   "metadata": {},
   "outputs": [],
   "source": [
    "class Population:\n",
    "    def __init__(self, size=100):\n",
    "        self.specimen = {Creature() for _ in range(size)}\n",
    "        self.history=[]\n",
    "    def count_alive(self):\n",
    "        return len({creature for creature in self.specimen if creature.alive})\n",
    "    def natural_selection(self):\n",
    "        for creature in self.specimen:\n",
    "            creature.natural_selection()\n",
    "    def plot(self):\n",
    "        plt.plot(self.history)     \n",
    "    def reproduce(self):\n",
    "        new_creatures={creature.reproduce() for creature in self.specimen if creature.alive}\n",
    "        new_creatures -= {None}\n",
    "        self.specimen |= new_creatures\n",
    "    def simulate(self, generations):\n",
    "        for i in range(generations):\n",
    "            self.history.append(self.count_alive())\n",
    "            self.reproduce()\n",
    "            self.natural_selection()"
   ]
  },
  {
   "cell_type": "code",
   "execution_count": 79,
   "id": "19e1aad7",
   "metadata": {},
   "outputs": [],
   "source": [
    "population=Population()"
   ]
  },
  {
   "cell_type": "code",
   "execution_count": 80,
   "id": "2dd10454",
   "metadata": {},
   "outputs": [
    {
     "data": {
      "text/plain": [
       "119"
      ]
     },
     "execution_count": 80,
     "metadata": {},
     "output_type": "execute_result"
    }
   ],
   "source": [
    "population.simulate(100)\n",
    "population.count_alive()"
   ]
  },
  {
   "cell_type": "code",
   "execution_count": 81,
   "id": "b47be836",
   "metadata": {},
   "outputs": [
    {
     "data": {
      "image/png": "[encoded data removed]",
      "text/plain": [
       "<Figure size 432x288 with 1 Axes>"
      ]
     },
     "metadata": {
      "needs_background": "light"
     },
     "output_type": "display_data"
    }
   ],
   "source": [
    "population.plot()"
   ]
  },
  {
   "cell_type": "code",
   "execution_count": 82,
   "id": "6f89e320",
   "metadata": {},
   "outputs": [
    {
     "data": {
      "image/png": "[encoded data removed]",
      "text/plain": [
       "<Figure size 432x288 with 1 Axes>"
      ]
     },
     "metadata": {
      "needs_background": "light"
     },
     "output_type": "display_data"
    }
   ],
   "source": [
    "population.plot()"
   ]
  },
  {
   "cell_type": "markdown",
   "id": "a3276133",
   "metadata": {},
   "source": [
    "robimy tak ze potomek dziedziczy p_death i repr ale z lekkim zaburzeniem \\\n",
    "statyczne atrybuty jak alive zazwczyaj powinny byc w inicie"
   ]
  },
  {
   "cell_type": "code",
   "execution_count": 83,
   "id": "14414c92",
   "metadata": {},
   "outputs": [],
   "source": [
    "class Creature:\n",
    "    alive = True\n",
    "    \n",
    "    def __init__(self,p_death=0.2, p_repr=0.25):\n",
    "        self.p_death=p_death\n",
    "        self.p_repr=p_repr\n",
    "    def natural_selection(self):\n",
    "        if random.random() <= self.p_death:\n",
    "            self.alive = False\n",
    "        return self.alive\n",
    "    def reproduce(self):\n",
    "        if random.random() <= self.p_repr:\n",
    "            return Creature(self.p_death + random.normalvariate(mu=0, sigma=0.01), \n",
    "                            self.p_repr + random.normalvariate(mu=0, sigma=0.01))\n",
    "    @property #deklarator bo p_death jest getterem dla atrybutu i nie chcemy by nadpisywal wartosc w inicie\n",
    "    def p_death(self):\n",
    "        return self._p_death\n",
    "    \n",
    "    @p_death.setter\n",
    "    def p_death(self, value):\n",
    "        self._p_death = min(1, max(0.0, value)) #ograniczenie ze p to maksymalnie 1\n",
    "        if value < 0:\n",
    "            self._p_death = 0.0\n",
    "        else:\n",
    "            self._p_death = value\n",
    "class Population:\n",
    "    def __init__(self, size=100):\n",
    "        self.specimen = {Creature() for _ in range(size)}\n",
    "        self.history=[]\n",
    "    def count_alive(self):\n",
    "        return len({creature for creature in self.specimen if creature.alive})\n",
    "    def natural_selection(self):\n",
    "        for creature in self.specimen:\n",
    "            creature.natural_selection()\n",
    "    def plot_history(self):\n",
    "        plt.plot(self.history)  \n",
    "    def plot_attribute(self, attribute=\"p_death\"):\n",
    "        values=[getattr(creature, attribute) for creature in self.specimen if creature.alive]\n",
    "        plt.hist(values) \n",
    "        plt.title(attribute)\n",
    "    def reproduce(self):\n",
    "        new_creatures={creature.reproduce() for creature in self.specimen if creature.alive}\n",
    "        new_creatures -= {None}\n",
    "        self.specimen |= new_creatures\n",
    "    def simulate(self, generations):\n",
    "        for i in range(generations):\n",
    "            self.history.append(self.count_alive())\n",
    "            self.reproduce()\n",
    "            self.natural_selection()"
   ]
  },
  {
   "cell_type": "markdown",
   "id": "75f5b94e",
   "metadata": {},
   "source": [
    "random.normalvariate - losujemy z rozkladu normalnego \\\n",
    "robimy dwa osobne ploty jeden zostaje taki sam, drugi to histogram z dowolnym atrbutyem (domyslnie p_death)"
   ]
  },
  {
   "cell_type": "code",
   "execution_count": 84,
   "id": "97b203b4",
   "metadata": {},
   "outputs": [],
   "source": [
    "population=Population(10)"
   ]
  },
  {
   "cell_type": "code",
   "execution_count": 85,
   "id": "152c3568",
   "metadata": {},
   "outputs": [
    {
     "data": {
      "image/png": "[encoded data removed]",
      "text/plain": [
       "<Figure size 432x288 with 1 Axes>"
      ]
     },
     "metadata": {
      "needs_background": "light"
     },
     "output_type": "display_data"
    }
   ],
   "source": [
    "population.plot_attribute()"
   ]
  },
  {
   "cell_type": "markdown",
   "id": "3a639773",
   "metadata": {},
   "source": [
    "funckja getattr by  udalo sie odczytywac atrybut"
   ]
  },
  {
   "cell_type": "code",
   "execution_count": 86,
   "id": "bc7d6458",
   "metadata": {},
   "outputs": [
    {
     "data": {
      "image/png": "[encoded data removed]",
      "text/plain": [
       "<Figure size 432x288 with 1 Axes>"
      ]
     },
     "metadata": {
      "needs_background": "light"
     },
     "output_type": "display_data"
    }
   ],
   "source": [
    "population.plot_attribute('p_repr')"
   ]
  },
  {
   "cell_type": "code",
   "execution_count": 87,
   "id": "23bb6d2c",
   "metadata": {},
   "outputs": [
    {
     "data": {
      "text/plain": [
       "0"
      ]
     },
     "execution_count": 87,
     "metadata": {},
     "output_type": "execute_result"
    }
   ],
   "source": [
    "population.simulate(100)\n",
    "population.count_alive()"
   ]
  },
  {
   "cell_type": "code",
   "execution_count": 88,
   "id": "56738b55",
   "metadata": {},
   "outputs": [
    {
     "data": {
      "image/png": "[encoded data removed]",
      "text/plain": [
       "<Figure size 432x288 with 1 Axes>"
      ]
     },
     "metadata": {
      "needs_background": "light"
     },
     "output_type": "display_data"
    }
   ],
   "source": [
    "population.plot_attribute()"
   ]
  },
  {
   "cell_type": "code",
   "execution_count": 89,
   "id": "81ac5648",
   "metadata": {},
   "outputs": [
    {
     "data": {
      "image/png": "[encoded data removed]",
      "text/plain": [
       "<Figure size 432x288 with 1 Axes>"
      ]
     },
     "metadata": {
      "needs_background": "light"
     },
     "output_type": "display_data"
    }
   ],
   "source": [
    "population.plot_history()"
   ]
  },
  {
   "cell_type": "markdown",
   "id": "d1baead0",
   "metadata": {},
   "source": [
    "setter i getter dzialaja same z siebie bez wywolywania"
   ]
  },
  {
   "cell_type": "code",
   "execution_count": 90,
   "id": "7df5e8a1",
   "metadata": {},
   "outputs": [],
   "source": [
    "s = Creature()"
   ]
  },
  {
   "cell_type": "code",
   "execution_count": 91,
   "id": "c2a7d7ce",
   "metadata": {},
   "outputs": [
    {
     "data": {
      "text/plain": [
       "0.2"
      ]
     },
     "execution_count": 91,
     "metadata": {},
     "output_type": "execute_result"
    }
   ],
   "source": [
    "s.p_death"
   ]
  },
  {
   "cell_type": "code",
   "execution_count": 92,
   "id": "0aad9200",
   "metadata": {},
   "outputs": [
    {
     "data": {
      "text/plain": [
       "0.0"
      ]
     },
     "execution_count": 92,
     "metadata": {},
     "output_type": "execute_result"
    }
   ],
   "source": [
    "s.p_death = -1\n",
    "s.p_death"
   ]
  },
  {
   "cell_type": "markdown",
   "id": "6229ad0e",
   "metadata": {},
   "source": [
    "alejest sztuczka by to ominac "
   ]
  },
  {
   "cell_type": "code",
   "execution_count": 93,
   "id": "895acdf5",
   "metadata": {},
   "outputs": [
    {
     "data": {
      "text/plain": [
       "-1"
      ]
     },
     "execution_count": 93,
     "metadata": {},
     "output_type": "execute_result"
    }
   ],
   "source": [
    "s._p_death = -1\n",
    "s.p_death"
   ]
  },
  {
   "cell_type": "markdown",
   "id": "62c7b632",
   "metadata": {},
   "source": [
    "# ZAJECIA 5"
   ]
  },
  {
   "cell_type": "markdown",
   "id": "2299818d",
   "metadata": {},
   "source": [
    "teraz zajmiemy sie nowa klasa by sie przyjrec setterom i getterom "
   ]
  },
  {
   "cell_type": "code",
   "execution_count": 94,
   "id": "ddce9d72",
   "metadata": {},
   "outputs": [],
   "source": [
    "class A:\n",
    "    \n",
    "    def __init__(self,x):\n",
    "        self.x=x\n",
    "    \n",
    "    @property\n",
    "    def x(self):\n",
    "        print(\"uwu\")\n",
    "        return self._x #tu musi byc inaczej ta zmienna zapisana dlatego konwecja mowi o _ przed zmienna\n",
    "    \n",
    "    @x.setter #jak jest getter z property to musi tezbyc setter wywolujacy ta zmienna z _ przed\n",
    "    def x(self, value):\n",
    "        print(\"owo\")\n",
    "        self._x=value"
   ]
  },
  {
   "cell_type": "code",
   "execution_count": 95,
   "id": "723f60f0",
   "metadata": {},
   "outputs": [
    {
     "name": "stdout",
     "output_type": "stream",
     "text": [
      "owo\n"
     ]
    }
   ],
   "source": [
    "obj=A(2)"
   ]
  },
  {
   "cell_type": "code",
   "execution_count": 96,
   "id": "9c6e8d3d",
   "metadata": {},
   "outputs": [
    {
     "name": "stdout",
     "output_type": "stream",
     "text": [
      "owo\n"
     ]
    }
   ],
   "source": [
    "obj.x=4"
   ]
  },
  {
   "cell_type": "code",
   "execution_count": 97,
   "id": "70a13d3d",
   "metadata": {},
   "outputs": [
    {
     "name": "stdout",
     "output_type": "stream",
     "text": [
      "uwu\n"
     ]
    },
    {
     "data": {
      "text/plain": [
       "4"
      ]
     },
     "execution_count": 97,
     "metadata": {},
     "output_type": "execute_result"
    }
   ],
   "source": [
    "obj.x"
   ]
  },
  {
   "cell_type": "code",
   "execution_count": 98,
   "id": "e398a86e",
   "metadata": {},
   "outputs": [],
   "source": [
    "class Probability:\n",
    "    def __set_name__(self,owner,name): #name=p_death lub p_repr\n",
    "        self.private_name = '_'+name\n",
    "    def __get__(self, obj, objtype=None):\n",
    "        return getattr(obj,self. private_name)\n",
    "    def __set__(self, obj, value):\n",
    "        setattr(obj, self.private_name, min(1, max(0.0, value)))\n",
    "class Creature:\n",
    "    alive = True\n",
    "    p_death=Probability()\n",
    "    p_repr=Probability()"
   ]
  },
  {
   "cell_type": "code",
   "execution_count": 99,
   "id": "bdddc300",
   "metadata": {},
   "outputs": [],
   "source": [
    "import random\n",
    "class Probability:\n",
    "    def __set_name__(self,owner,name): #name=p_death lub p_repr\n",
    "        self.private_name = '_'+name\n",
    "    def __get__(self, obj, objtype=None):\n",
    "        return getattr(obj,self. private_name)\n",
    "    def __set__(self, obj, value):\n",
    "        setattr(obj, self.private_name, min(1, max(0.0, value)))\n",
    "        \n",
    "class Creature:\n",
    "    alive = True\n",
    "    p_death=Probability()\n",
    "    p_repr=Probability()\n",
    "    def __init__(self,p_death=0.2, p_repr=0.25, p_escape=0.8):\n",
    "        self.p_death=p_death\n",
    "        self.p_repr=p_repr\n",
    "        self.p_escape=p_escape\n",
    "    def natural_selection(self):\n",
    "        if random.random() <= self.p_death:\n",
    "            self.alive = False\n",
    "        return self.alive\n",
    "    def reproduce(self):\n",
    "        if random.random() <= self.p_repr:\n",
    "            return type(self)()\n",
    "    def escape(self):\n",
    "        return True if random.random()<=self.p_escape else False\n",
    "        \n",
    "#     @property #deklarator bo p_death jest getterem dla atrybutu i nie chcemy by nadpisywal wartosc w inicie\n",
    "#     def p_death(self):\n",
    "#         return self._p_death\n",
    "    \n",
    "#     @p_death.setter\n",
    "#     def p_death(self, value):\n",
    "#         self._p_death = min(1, max(0.0, value)) #ograniczenie ze p to maksymalnie 1\n",
    "#         if value < 0:\n",
    "#             self._p_death = 0.0\n",
    "#         else:\n",
    "#             self._p_death = value\n",
    "            \n",
    "class Predator(Creature):\n",
    "    p_death_if_fed=0.05\n",
    "    p_death_if_hungry=0.5\n",
    "    def __init__(self,p_death=0.5, p_repr=0.2):\n",
    "        self.p_death=p_death\n",
    "        self.p_repr=p_repr\n",
    "    def hunt(self, victim):\n",
    "        if not victim.escape():\n",
    "            self.p_death=Predator.p_death_if_fed\n",
    "            victim.alive = False\n",
    "        else:\n",
    "            self.p_death=Predator.p_death_if_hungry\n",
    "    \n",
    "    \n",
    "    \n",
    "class Population:\n",
    "    def __init__(self, size=100):\n",
    "        self.specimen = {Creature() for _ in range(size)}\n",
    "        self.history=[]\n",
    "    def count_alive(self):\n",
    "        return len({creature for creature in self.specimen if creature.alive})\n",
    "    def natural_selection(self):\n",
    "        for creature in self.specimen:\n",
    "            creature.natural_selection()\n",
    "    def plot_history(self):\n",
    "        plt.plot(self.history)  \n",
    "    def plot_attribute(self, attribute=\"p_death\"):\n",
    "        values=[getattr(creature, attribute) for creature in self.specimen if creature.alive]\n",
    "        plt.hist(values) \n",
    "        plt.title(attribute)\n",
    "    def reproduce(self):\n",
    "        new_creatures={creature.reproduce() for creature in self.specimen if creature.alive}\n",
    "        new_creatures -= {None}\n",
    "        self.specimen |= new_creatures\n",
    "    def simulate(self, generations):\n",
    "        for i in range(generations):\n",
    "            self.history.append(self.count_alive())\n",
    "            self.reproduce()\n",
    "            self.natural_selection()"
   ]
  },
  {
   "cell_type": "code",
   "execution_count": 100,
   "id": "6088a576",
   "metadata": {},
   "outputs": [],
   "source": [
    "victim1=Creature()\n",
    "predator1=Predator()"
   ]
  },
  {
   "cell_type": "code",
   "execution_count": 101,
   "id": "9b13438f",
   "metadata": {},
   "outputs": [],
   "source": [
    "predator1.hunt(victim1)"
   ]
  },
  {
   "cell_type": "code",
   "execution_count": 102,
   "id": "2145737c",
   "metadata": {},
   "outputs": [
    {
     "data": {
      "text/plain": [
       "True"
      ]
     },
     "execution_count": 102,
     "metadata": {},
     "output_type": "execute_result"
    }
   ],
   "source": [
    "victim1.alive"
   ]
  },
  {
   "cell_type": "code",
   "execution_count": 103,
   "id": "9f85a09d",
   "metadata": {},
   "outputs": [],
   "source": [
    "predator1.reproduce()"
   ]
  }
 ],
 "metadata": {
  "kernelspec": {
   "display_name": "Python 3 (ipykernel)",
   "language": "python",
   "name": "python3"
  },
  "language_info": {
   "codemirror_mode": {
    "name": "ipython",
    "version": 3
   },
   "file_extension": ".py",
   "mimetype": "text/x-python",
   "name": "python",
   "nbconvert_exporter": "python",
   "pygments_lexer": "ipython3",
   "version": "3.9.7"
  }
 },
 "nbformat": 4,
 "nbformat_minor": 5
}
