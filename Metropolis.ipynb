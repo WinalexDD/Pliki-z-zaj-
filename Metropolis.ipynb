{
 "cells": [
  {
   "cell_type": "markdown",
   "id": "aeca8222",
   "metadata": {},
   "source": [
    "# Metoda Metropolisa"
   ]
  },
  {
   "cell_type": "markdown",
   "id": "ecb97c50",
   "metadata": {},
   "source": [
    "Rozkład próbkowany - to nieunormowany rozkład normalny. \n",
    "Celem całkowania tego rozkładu jest wyznaczenie stałej normującej go do 1."
   ]
  },
  {
   "cell_type": "code",
   "execution_count": 1,
   "id": "7b7d08f1",
   "metadata": {},
   "outputs": [],
   "source": [
    "import numpy as np\n",
    "import matplotlib.pyplot as plt"
   ]
  },
  {
   "cell_type": "code",
   "execution_count": 2,
   "id": "61314fdf",
   "metadata": {},
   "outputs": [],
   "source": [
    "mean = 0 \n",
    "std_dev = 1\n",
    "\n",
    "def rozkład(x):\n",
    "    return np.exp(-0.5*((x - mean)/std_dev)**2)"
   ]
  },
  {
   "cell_type": "code",
   "execution_count": 3,
   "id": "50fa91fb",
   "metadata": {},
   "outputs": [
    {
     "data": {
      "text/plain": [
       "[-2.028850465885802,\n",
       " -2.0587005950273385,\n",
       " -2.03831745876439,\n",
       " -2.055790415778353,\n",
       " -2.005400836955223]"
      ]
     },
     "execution_count": 3,
     "metadata": {},
     "output_type": "execute_result"
    }
   ],
   "source": [
    "# Punkt startowy\n",
    "x_aktualny = -2   \n",
    "\n",
    "# Inicjalizacja licznika akceptowanych próbek\n",
    "zakceptowane_probki = 0\n",
    "\n",
    "n = 1000000\n",
    "probki = []\n",
    "\n",
    "# Pętla algorytmu Metropolisa-Hastingsa\n",
    "for _ in range(n):\n",
    "    # Generowanie x_proponowany z rozkładu normalnego\n",
    "    x_proponowany = x_aktualny + np.random.normal(0, 0.02)  \n",
    "    wspolczynnik_akceptacji = rozkład(x_proponowany) / rozkład(x_aktualny)\n",
    "\n",
    "    # Losowa decyzja o akceptacji lub odrzuceniu propozycji\n",
    "    if np.random.uniform(0, 1) <= wspolczynnik_akceptacji:\n",
    "         x_aktualny = x_proponowany\n",
    "         zakceptowane_probki += 1\n",
    "         probki.append(x_aktualny)\n",
    "probki[0:5]"
   ]
  },
  {
   "cell_type": "code",
   "execution_count": 4,
   "id": "bdbfe56d",
   "metadata": {},
   "outputs": [
    {
     "name": "stdout",
     "output_type": "stream",
     "text": [
      "Przybliżona wartość całki: 0.993688\n"
     ]
    }
   ],
   "source": [
    "Calka =  zakceptowane_probki / n\n",
    "print(\"Przybliżona wartość całki:\", Calka)"
   ]
  },
  {
   "cell_type": "markdown",
   "id": "de4a585b",
   "metadata": {},
   "source": [
    "# Wykresy"
   ]
  },
  {
   "cell_type": "markdown",
   "id": "ea4e6e0b",
   "metadata": {},
   "source": [
    "Dzielenie listy próbek przez Całka, w celu unormowania: \\\n",
    "a) tworzę pustą listę na próbki unormowane przez całkę  \\\n",
    "b) dzielę każdy element listy 'probki' przez 'Calka' \\\n",
    "c) dodaję do listy 'probki_unormowane'"
   ]
  },
  {
   "cell_type": "code",
   "execution_count": 5,
   "id": "87294057",
   "metadata": {},
   "outputs": [
    {
     "data": {
      "text/plain": [
       "[-2.041737915609127,\n",
       " -2.0717776555894187,\n",
       " -2.051265043720353,\n",
       " -2.068848990607065,\n",
       " -2.0181393324214674]"
      ]
     },
     "execution_count": 5,
     "metadata": {},
     "output_type": "execute_result"
    }
   ],
   "source": [
    "probki_normowane = []\n",
    "for element in probki:\n",
    "    probki_normowane.append(element / Calka)\n",
    "probki_normowane[0:5]"
   ]
  },
  {
   "cell_type": "code",
   "execution_count": 6,
   "id": "6850fb10",
   "metadata": {},
   "outputs": [
    {
     "data": {
      "image/png": "[encoded data removed]",
      "text/plain": [
       "<Figure size 576x432 with 1 Axes>"
      ]
     },
     "metadata": {
      "needs_background": "light"
     },
     "output_type": "display_data"
    }
   ],
   "source": [
    "plt.figure(figsize=(8, 6))\n",
    "plt.hist(probki_normowane, bins=150, density=True, alpha=0.6, color='blue', label='Próbki')\n",
    "x_zakres = np.linspace(-5, 5, 1000)\n",
    "plt.plot(x_zakres, rozkład(x_zakres), color='red', label='Rozkład docelowy')\n",
    "plt.title('Unormowany histogram próbek z nieunormowanego rozkładu normalnego')\n",
    "plt.xlabel('x')\n",
    "plt.ylabel('Prawdopodobieństwo')\n",
    "plt.legend()\n",
    "plt.grid(True)\n",
    "plt.show()"
   ]
  }
 ],
 "metadata": {
  "kernelspec": {
   "display_name": "Python 3 (ipykernel)",
   "language": "python",
   "name": "python3"
  },
  "language_info": {
   "codemirror_mode": {
    "name": "ipython",
    "version": 3
   },
   "file_extension": ".py",
   "mimetype": "text/x-python",
   "name": "python",
   "nbconvert_exporter": "python",
   "pygments_lexer": "ipython3",
   "version": "3.9.7"
  }
 },
 "nbformat": 4,
 "nbformat_minor": 5
}
