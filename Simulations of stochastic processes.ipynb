{
 "cells": [
  {
   "cell_type": "markdown",
   "id": "e50bcafe",
   "metadata": {},
   "source": [
    "# ZAJECIA 1"
   ]
  },
  {
   "cell_type": "code",
   "execution_count": 1,
   "id": "0edd1af4",
   "metadata": {},
   "outputs": [],
   "source": [
    "import numpy as np\n",
    "import math\n",
    "from numpy import random as rd"
   ]
  },
  {
   "cell_type": "code",
   "execution_count": 35,
   "id": "7509fbbe",
   "metadata": {},
   "outputs": [],
   "source": [
    "a=75\n",
    "c=74\n",
    "m=2**16+1\n",
    "x=0.1\n",
    "u=np.array([])"
   ]
  },
  {
   "cell_type": "code",
   "execution_count": 36,
   "id": "7b3f7005",
   "metadata": {},
   "outputs": [],
   "source": [
    "for i in range(1000):\n",
    "    x=(a*x+c)%m\n",
    "    u=np.append(u, x/m)"
   ]
  },
  {
   "cell_type": "code",
   "execution_count": 37,
   "id": "ca03b812",
   "metadata": {},
   "outputs": [],
   "source": [
    "counts=np.zeros(10)"
   ]
  },
  {
   "cell_type": "code",
   "execution_count": 38,
   "id": "abed3086",
   "metadata": {},
   "outputs": [],
   "source": [
    "for k in range(10):\n",
    "    counts[k]=sum((z>=k/10 and z < (k+1)/10) for z in u)"
   ]
  },
  {
   "cell_type": "code",
   "execution_count": 39,
   "id": "551dc749",
   "metadata": {},
   "outputs": [
    {
     "data": {
      "text/plain": [
       "array([102., 102., 100., 108.,  93., 100.,  97., 106.,  89., 103.])"
      ]
     },
     "execution_count": 39,
     "metadata": {},
     "output_type": "execute_result"
    }
   ],
   "source": [
    "counts"
   ]
  },
  {
   "cell_type": "code",
   "execution_count": 42,
   "id": "e1131b11",
   "metadata": {},
   "outputs": [
    {
     "data": {
      "text/plain": [
       "2.96"
      ]
     },
     "execution_count": 42,
     "metadata": {},
     "output_type": "execute_result"
    }
   ],
   "source": [
    "chi2=0\n",
    "\n",
    "for k in range(10):\n",
    "    chi2 += (counts[k]-100)**2/100\n",
    "chi2"
   ]
  },
  {
   "cell_type": "markdown",
   "id": "b3fa22f6",
   "metadata": {},
   "source": [
    "# ZAJECIA 2"
   ]
  },
  {
   "cell_type": "code",
   "execution_count": 2,
   "id": "36f03a9b",
   "metadata": {},
   "outputs": [
    {
     "name": "stdout",
     "output_type": "stream",
     "text": [
      "6.327508124950646\n"
     ]
    }
   ],
   "source": [
    "n=100000\n",
    "result = 0\n",
    "for i in range(n):\n",
    "    x=rd.random() #losowa liczba miedzy 0 a 1\n",
    "    result+=math.e**(math.e**x)/n\n",
    "print(result)"
   ]
  },
  {
   "cell_type": "code",
   "execution_count": 18,
   "id": "e830ed2a",
   "metadata": {},
   "outputs": [
    {
     "name": "stdout",
     "output_type": "stream",
     "text": [
      "1.7732071301337646\n"
     ]
    }
   ],
   "source": [
    "n=100000\n",
    "result = 0\n",
    "a=5\n",
    "for i in range(n):\n",
    "    x=rd.uniform(-a,a) #losowa\n",
    "    result+=2*a*math.e**(-x**2)/n\n",
    "print(result)"
   ]
  },
  {
   "cell_type": "code",
   "execution_count": null,
   "id": "05d06618",
   "metadata": {},
   "outputs": [],
   "source": [
    "n=100000\n",
    "u=rd.random()\n",
    "x=0\n",
    "if u<=0.2:\n",
    "    x=2\n",
    "elif u<=0.35:\n",
    "    x=7\n",
    "elif u<=0.6:\n",
    "    x=10\n",
    "else:\n",
    "    x=20"
   ]
  },
  {
   "cell_type": "code",
   "execution_count": 32,
   "id": "f16ad8f4",
   "metadata": {},
   "outputs": [
    {
     "data": {
      "text/plain": [
       "11.95901"
      ]
     },
     "execution_count": 32,
     "metadata": {},
     "output_type": "execute_result"
    }
   ],
   "source": [
    "n=100000\n",
    "x=np.zeros(n)\n",
    "w=[2,7,10,20]\n",
    "psum=[0.2, 0.35, 0.6, 1]\n",
    "for l in range(n):\n",
    "    u=rd.random()\n",
    "    for k in range(len(w)):\n",
    "        if u<=psum[k]:\n",
    "            x[l]=w[k]\n",
    "            break\n",
    "np.mean(x)"
   ]
  },
  {
   "cell_type": "code",
   "execution_count": 29,
   "id": "86296c66",
   "metadata": {},
   "outputs": [],
   "source": [
    "f=np.sqrt((x-1)/5)"
   ]
  },
  {
   "cell_type": "code",
   "execution_count": null,
   "id": "40255883",
   "metadata": {},
   "outputs": [],
   "source": [
    "n=100000\n",
    "x=np.zeros(n)\n",
    "w=[2,7,10,20]\n",
    "psum=[0.2, 0.35, 0.6, 1]\n",
    "for l in range(n):\n",
    "    u=rd.random()\n",
    "    for k in range(len(w)):\n",
    "        if u<=psum[k]:\n",
    "            x[l]=w[k]\n",
    "            break\n",
    "np.mean(x)"
   ]
  },
  {
   "cell_type": "code",
   "execution_count": 39,
   "id": "a1865c41",
   "metadata": {},
   "outputs": [
    {
     "name": "stdout",
     "output_type": "stream",
     "text": [
      "20\n"
     ]
    }
   ],
   "source": [
    "n=100000\n",
    "x=0\n",
    "lam=19.5\n",
    "u=rd.random()\n",
    "p=math.e**(-lam)\n",
    "i=0\n",
    "psum=p\n",
    "while True:\n",
    "    if u<=psum:\n",
    "        x=i\n",
    "        break\n",
    "    else:\n",
    "        p=p*lam/(i+1)\n",
    "        psum=psum+p\n",
    "        i = i+1\n",
    "print(x)"
   ]
  },
  {
   "cell_type": "code",
   "execution_count": 41,
   "id": "9f4bb840",
   "metadata": {},
   "outputs": [
    {
     "name": "stdout",
     "output_type": "stream",
     "text": [
      "19.51564\n"
     ]
    }
   ],
   "source": [
    "n=100000\n",
    "x=np.zeros(n)\n",
    "lam=19.5\n",
    "for k in range(n):\n",
    "    u=rd.random()\n",
    "    p=math.e**(-lam)\n",
    "    i=0\n",
    "    psum=p\n",
    "    while True:\n",
    "        if u<=psum:\n",
    "            x[k]=i\n",
    "            break\n",
    "        else:\n",
    "            p=p*lam/(i+1)\n",
    "            psum=psum+p\n",
    "            i = i+1\n",
    "print(np.mean(x))"
   ]
  },
  {
   "cell_type": "markdown",
   "id": "d1a1475f",
   "metadata": {},
   "source": [
    "# ZAJECIA 3"
   ]
  },
  {
   "cell_type": "code",
   "execution_count": 19,
   "id": "357bb250",
   "metadata": {},
   "outputs": [
    {
     "name": "stdout",
     "output_type": "stream",
     "text": [
      "0.16966\n"
     ]
    }
   ],
   "source": [
    "n=100000\n",
    "count = 0\n",
    "\n",
    "for i in range(n):\n",
    "    d1=rd.randint(1,6)\n",
    "    d2=rd.randint(1,6)\n",
    "    if d1+d2<=4:\n",
    "        count+=1\n",
    "print(count/n)"
   ]
  },
  {
   "cell_type": "code",
   "execution_count": 39,
   "id": "fb4cb5bb",
   "metadata": {},
   "outputs": [
    {
     "name": "stdout",
     "output_type": "stream",
     "text": [
      "0.5033050330503305\n"
     ]
    }
   ],
   "source": [
    "n=100000\n",
    "count = 0\n",
    "\n",
    "for n in range(n):\n",
    "    bdays = [rd.randint(1,365) for x in range (23)]\n",
    "    sameday=0\n",
    "    for i in range(23):\n",
    "        for j in range(i+1,23):\n",
    "            if bdays[i]==bdays[j]:\n",
    "                sameday =1\n",
    "                break\n",
    "        if sameday==1:\n",
    "            count+=1\n",
    "            break\n",
    "print(count/n)"
   ]
  },
  {
   "cell_type": "markdown",
   "id": "0437cfcf",
   "metadata": {},
   "source": [
    "# ZAJECIA 4"
   ]
  },
  {
   "cell_type": "code",
   "execution_count": 10,
   "id": "614257fc",
   "metadata": {},
   "outputs": [
    {
     "name": "stdout",
     "output_type": "stream",
     "text": [
      "99998.91546\n"
     ]
    }
   ],
   "source": [
    "n=100000\n",
    "count = 0\n",
    "\n",
    "for i in range(n):\n",
    "    for k in range(30):\n",
    "        d1 =rd.randint(1,7)\n",
    "        d2=rd.randint(1,7)\n",
    "        d3=rd.randint(1,7)\n",
    "        if d1==d2==d3==6:\n",
    "            count+=1\n",
    "            break\n",
    "print(i-count/n)"
   ]
  },
  {
   "cell_type": "code",
   "execution_count": 2,
   "id": "b9af6665",
   "metadata": {},
   "outputs": [
    {
     "name": "stdout",
     "output_type": "stream",
     "text": [
      "2.0192275843644767\n"
     ]
    }
   ],
   "source": [
    "n=100000\n",
    "x2 =np.zeros(n)\n",
    "for k in range(n):\n",
    "    u=rd.random()\n",
    "    x=-math.log(1-u)\n",
    "    x2[k]=x**2\n",
    "print(np.mean(x2))"
   ]
  },
  {
   "cell_type": "code",
   "execution_count": 4,
   "id": "1eb114ad",
   "metadata": {},
   "outputs": [],
   "source": [
    "N=100\n",
    "M=4\n",
    "F=[[0.2, 0.4, 0.4,1], [0.5,1,1,1], [0,0.4,0.4,1],[0,0,1,1]]\n",
    "infty=10000\n",
    "mu=[3,1,0.75,2]\n",
    "T=100\n",
    "sys=[25,25,25,25]\n",
    "t=0\n",
    "dept=[rd.exponential(1/x) for x in mu]"
   ]
  },
  {
   "cell_type": "code",
   "execution_count": 6,
   "id": "bdc81a03",
   "metadata": {},
   "outputs": [
    {
     "name": "stdout",
     "output_type": "stream",
     "text": [
      "[0, 38, 61, 1]\n"
     ]
    }
   ],
   "source": [
    "#SYMULACJA\n",
    "while t<T:\n",
    "    go_from=np.argmin(dept)\n",
    "    u=rd.random()\n",
    "    for k in range(4):\n",
    "        if u<F[go_from][k]:\n",
    "            go_to=k\n",
    "            break\n",
    "    t=dept[go_from]\n",
    "    sys[go_from]-=1\n",
    "    if sys[go_from]==0:\n",
    "        dept[go_from]=infty\n",
    "    else: \n",
    "        dept[go_from] = t+rd.exponential(1/mu[go_from])\n",
    "    sys[go_to]+=1\n",
    "    if sys[go_to]==1:\n",
    "        dept[go_to]=t+rd.exponential(1/mu[go_to])\n",
    "print(sys)"
   ]
  }
 ],
 "metadata": {
  "kernelspec": {
   "display_name": "Python 3 (ipykernel)",
   "language": "python",
   "name": "python3"
  },
  "language_info": {
   "codemirror_mode": {
    "name": "ipython",
    "version": 3
   },
   "file_extension": ".py",
   "mimetype": "text/x-python",
   "name": "python",
   "nbconvert_exporter": "python",
   "pygments_lexer": "ipython3",
   "version": "3.9.7"
  }
 },
 "nbformat": 4,
 "nbformat_minor": 5
}
